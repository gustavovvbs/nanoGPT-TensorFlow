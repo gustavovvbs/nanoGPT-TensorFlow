{
 "cells": [
  {
   "cell_type": "code",
   "execution_count": 1,
   "metadata": {},
   "outputs": [
    {
     "name": "stdout",
     "output_type": "stream",
     "text": [
      "WARNING:tensorflow:From c:\\Users\\gugu1\\AppData\\Local\\Programs\\Python\\Python39\\lib\\site-packages\\tf_keras\\src\\losses.py:2976: The name tf.losses.sparse_softmax_cross_entropy is deprecated. Please use tf.compat.v1.losses.sparse_softmax_cross_entropy instead.\n",
      "\n",
      "WARNING:tensorflow:From c:\\Users\\gugu1\\AppData\\Local\\Programs\\Python\\Python39\\lib\\site-packages\\tensorflow_probability\\python\\internal\\backend\\numpy\\_utils.py:48: The name tf.logging.TaskLevelStatusMessage is deprecated. Please use tf.compat.v1.logging.TaskLevelStatusMessage instead.\n",
      "\n",
      "WARNING:tensorflow:From c:\\Users\\gugu1\\AppData\\Local\\Programs\\Python\\Python39\\lib\\site-packages\\tensorflow_probability\\python\\internal\\backend\\numpy\\_utils.py:48: The name tf.control_flow_v2_enabled is deprecated. Please use tf.compat.v1.control_flow_v2_enabled instead.\n",
      "\n"
     ]
    }
   ],
   "source": [
    "import tensorflow as tf \n",
    "import numpy as np \n",
    "import tensorflow_probability as tfp\n",
    "import numpy as np\n",
    "\n",
    "\n",
    "with open('data.txt', 'r', encoding = 'utf-8') as f:\n",
    "    text = f.read()"
   ]
  },
  {
   "cell_type": "code",
   "execution_count": 2,
   "metadata": {},
   "outputs": [
    {
     "name": "stdout",
     "output_type": "stream",
     "text": [
      "['\\n', ' ', '!', '$', '&', \"'\", ',', '-', '.', '3', ':', ';', '?', 'A', 'B', 'C', 'D', 'E', 'F', 'G', 'H', 'I', 'J', 'K', 'L', 'M', 'N', 'O', 'P', 'Q', 'R', 'S', 'T', 'U', 'V', 'W', 'X', 'Y', 'Z', 'a', 'b', 'c', 'd', 'e', 'f', 'g', 'h', 'i', 'j', 'k', 'l', 'm', 'n', 'o', 'p', 'q', 'r', 's', 't', 'u', 'v', 'w', 'x', 'y', 'z']\n",
      "65\n",
      "1115393\n"
     ]
    }
   ],
   "source": [
    "vocab = sorted(set(text))\n",
    "vocab_size = len(vocab)\n",
    "n_tokens = len(text)\n",
    "\n",
    "print(vocab)\n",
    "print(vocab_size)\n",
    "print(n_tokens)"
   ]
  },
  {
   "cell_type": "code",
   "execution_count": 3,
   "metadata": {},
   "outputs": [
    {
     "data": {
      "text/plain": [
       "'First Citizen:\\nBefore we proceed any further, hear me speak.\\n\\nAll:\\nSpeak, speak.'"
      ]
     },
     "execution_count": 3,
     "metadata": {},
     "output_type": "execute_result"
    }
   ],
   "source": [
    "text[:80]"
   ]
  },
  {
   "cell_type": "code",
   "execution_count": 4,
   "metadata": {},
   "outputs": [],
   "source": [
    "text_vec_layer = tf.keras.layers.TextVectorization(max_tokens = vocab_size)\n",
    "text_vec_layer.adapt(text)\n",
    "encoded_text = text_vec_layer([text])[0]\n"
   ]
  },
  {
   "cell_type": "code",
   "execution_count": 5,
   "metadata": {},
   "outputs": [],
   "source": [
    "n = int(len(text_vec_layer.get_vocabulary())*0.9)\n",
    "raw_train_set = encoded_text[:n]\n",
    "raw_test_set = encoded_text[n:]"
   ]
  },
  {
   "cell_type": "code",
   "execution_count": 6,
   "metadata": {},
   "outputs": [],
   "source": [
    "def to_dataset(sequence, length, shuffle = False, seed = None, batch_size = 32):\n",
    "    ds = tf.data.Dataset.from_tensor_slices(sequence)\n",
    "    ds = ds.window(length + 1, shift = 1, drop_remainder = True)\n",
    "    ds = ds.flat_map(lambda window_ds: window_ds.batch(length + 1))\n",
    "    if shuffle:\n",
    "        ds = ds.shuffle(100000, seed = seed)\n",
    "    ds = ds.batch(batch_size)\n",
    "    return ds.map(lambda window: (window[:, :-1], window[:, 1:])).prefetch(1)"
   ]
  },
  {
   "cell_type": "code",
   "execution_count": 7,
   "metadata": {},
   "outputs": [],
   "source": [
    "train_set = to_dataset(raw_train_set, shuffle = True, length = 8)\n",
    "test_set = to_dataset(raw_test_set, length = 8)"
   ]
  },
  {
   "cell_type": "code",
   "execution_count": 100,
   "metadata": {},
   "outputs": [
    {
     "name": "stdout",
     "output_type": "stream",
     "text": [
      "tf.Tensor(\n",
      "[[3]\n",
      " [1]\n",
      " [1]\n",
      " [4]\n",
      " [2]\n",
      " [4]\n",
      " [4]\n",
      " [1]\n",
      " [1]\n",
      " [2]\n",
      " [4]\n",
      " [2]\n",
      " [4]\n",
      " [2]\n",
      " [3]\n",
      " [2]\n",
      " [4]\n",
      " [4]\n",
      " [0]\n",
      " [3]\n",
      " [0]\n",
      " [4]\n",
      " [3]\n",
      " [4]\n",
      " [2]\n",
      " [4]\n",
      " [0]\n",
      " [4]\n",
      " [4]\n",
      " [3]\n",
      " [1]\n",
      " [4]], shape=(32, 1), dtype=int32)\n",
      "(32, 65)\n",
      "(32, 1)\n",
      "tf.Tensor(9.568363, shape=(), dtype=float32)\n"
     ]
    }
   ],
   "source": [
    "listset = list(train_set)\n",
    "\n",
    "test = tf.keras.random.randint(shape = (32, 2, 1), minval = 0, maxval = 5)\n",
    "print(test[:, 0, :])\n",
    "\n",
    "testpred = tf.random.normal(shape = (32, 8, vocab_size))\n",
    "testpred = testpred\n",
    "print(testpred[:, 0, :].shape)\n",
    "# print(f'when inputs are: {listset[0][0][:5]}')\n",
    "# print(f'outputs are:{listset[0][1][:5]}')\n",
    "\n",
    "# print(f'sequence {listset[0][0][0]}')\n",
    "# print(f'to predict token {listset[0][1][0][-1]}')\n",
    "\n",
    "print(test[:, 0, :].shape)\n",
    "ce = tf.keras.losses.SparseCategoricalCrossentropy()\n",
    "loss = ce(test[:, 0, :], testpred[:, 0, :])\n",
    "print(loss)\n"
   ]
  },
  {
   "cell_type": "code",
   "execution_count": 5,
   "metadata": {},
   "outputs": [],
   "source": [
    "import tensorflow as tf\n",
    "import numpy as np \n",
    "\n",
    "class AttentionHead(tf.keras.Model):\n",
    "    def __init__(self, head_size):\n",
    "        super().__init__()\n",
    "        self.head_size = head_size \n",
    "        self.key = tf.keras.layers.Dense(head_size, use_bias = False)\n",
    "        self.query = tf.keras.layers.Dense(head_size, use_bias = False)\n",
    "        self.value = tf.keras.layers.Dense(head_size, use_bias = False)\n",
    "    \n",
    "    def call(self, x):\n",
    "        #pega as dimensoes de batch, context size e channels do input \n",
    "        B, T, C = x.shape\n",
    "        k = self.key(x)\n",
    "        q = self.query(x)\n",
    "        v = self.value(x)\n",
    "\n",
    "        trig = tf.linalg.band_part(tf.ones(shape = (T, T)), -1, 0)\n",
    "\n",
    "        att_w = q @ tf.transpose(k, perm = [0, 2, 1]) *(k.shape[-1])**-0.5\n",
    "\n",
    "        att_w = tf.where(trig == 0, -np.inf, att_w)\n",
    "\n",
    "        att_w = tf.nn.softmax(att_w, axis = -1)\n",
    "        \n",
    "        output = att_w @ v\n",
    "\n",
    "        return output\n",
    "\n",
    "\n"
   ]
  },
  {
   "cell_type": "code",
   "execution_count": 19,
   "metadata": {},
   "outputs": [
    {
     "name": "stdout",
     "output_type": "stream",
     "text": [
      "tf.Tensor(\n",
      "[[[-5.36200583e-01  1.21979582e+00 -6.35650992e-01 -1.20261455e+00\n",
      "    8.16121578e-01 -5.90881169e-01 -1.88537753e+00  9.94907081e-01]\n",
      "  [-4.16900247e-01  7.61421621e-01 -3.38216722e-01 -7.95124292e-01\n",
      "    4.66019571e-01 -3.30589116e-01 -1.42362368e+00  5.14793396e-01]\n",
      "  [-3.21003705e-01  2.11422876e-01 -1.28724486e-01 -3.26458126e-01\n",
      "    3.86039913e-02 -1.88218519e-01 -7.82809615e-01  5.95069975e-02]]\n",
      "\n",
      " [[-6.04891956e-01 -2.48096824e-01 -6.80191159e-01 -1.02991946e-01\n",
      "   -4.14803743e-01 -9.44959819e-01 -9.54205617e-02  1.98871464e-01]\n",
      "  [-3.58393669e-01 -3.85810018e-01  6.25850737e-01  9.35708582e-02\n",
      "   -5.41782141e-01  4.84084487e-01 -1.04993725e+00 -1.04597259e+00]\n",
      "  [-7.77639627e-01 -1.88245445e-01 -1.80304170e-01 -2.53557980e-01\n",
      "   -4.93666917e-01 -4.53448623e-01 -1.16626990e+00 -3.70242864e-01]]\n",
      "\n",
      " [[-3.50939691e-01  4.10281539e-01 -3.12575102e-01 -4.90305573e-01\n",
      "    2.05840632e-01 -3.52919459e-01 -8.68059814e-01  3.35443586e-01]\n",
      "  [ 8.82045329e-02  5.15668631e-01  3.36170942e-01 -3.62306178e-01\n",
      "    4.30617154e-01  4.82742608e-01 -8.98782969e-01 -5.34871221e-03]\n",
      "  [-1.40220961e-02  5.54195642e-01  1.29189730e-01 -4.39193368e-01\n",
      "    4.35452968e-01  2.41215914e-01 -9.01660502e-01  1.64612338e-01]]\n",
      "\n",
      " [[ 1.03334546e+00 -2.09738523e-01  2.84586221e-01  6.90913260e-01\n",
      "    2.74489343e-01  5.60351312e-01  2.08136845e+00  1.95796520e-01]\n",
      "  [ 9.72429335e-01 -9.41413045e-02  2.32710749e-01  5.71450114e-01\n",
      "    3.46381396e-01  5.10291338e-01  1.87090027e+00  2.75852859e-01]\n",
      "  [ 7.24775076e-01  2.59131938e-01  5.24267778e-02  1.75031066e-01\n",
      "    5.39988875e-01  3.16417277e-01  1.12588835e+00  5.06883800e-01]]\n",
      "\n",
      " [[-5.72161153e-02 -2.20497608e-01  3.74008209e-01  1.29734427e-01\n",
      "   -2.43489712e-01  3.36774528e-01 -3.10353905e-01 -5.29032409e-01]\n",
      "  [ 7.34538957e-02  5.07100224e-02  2.68850744e-01 -8.80869478e-03\n",
      "    4.91152257e-02  3.16211790e-01 -2.49896839e-01 -2.00002253e-01]\n",
      "  [ 1.72417685e-01  1.65943891e-01  2.42012106e-02 -3.92795205e-02\n",
      "    2.12846369e-01  1.08094908e-01  1.19583204e-01  1.65725648e-01]]\n",
      "\n",
      " [[-8.69597435e-01  4.10633534e-01  6.77798152e-01 -7.88971484e-01\n",
      "   -1.28306404e-01  5.46589494e-01 -3.20920801e+00 -9.58377540e-01]\n",
      "  [ 6.57409430e-03  4.17288721e-01 -4.20716107e-02 -3.17740291e-01\n",
      "    3.49309266e-01  3.88795882e-02 -4.66972828e-01  2.73800522e-01]\n",
      "  [-1.80722907e-01  1.94281101e-01  4.26353008e-01 -2.56429315e-01\n",
      "    3.48752961e-02  4.37526405e-01 -1.16677582e+00 -4.26483095e-01]]\n",
      "\n",
      " [[ 6.75688922e-01 -1.09414315e+00  3.18318874e-01  1.18727243e+00\n",
      "   -6.18173361e-01  3.19505513e-01  2.41848207e+00 -5.27106583e-01]\n",
      "  [ 2.21653387e-01 -5.19071162e-01  2.07882449e-01  5.10189950e-01\n",
      "   -3.44188035e-01  1.83179706e-01  8.67643118e-01 -3.64241749e-01]\n",
      "  [ 2.18952280e-02 -3.19642901e-01  2.09866256e-01  2.52224565e-01\n",
      "   -2.72508174e-01  1.66336328e-01  1.90041572e-01 -3.72629046e-01]]\n",
      "\n",
      " [[ 1.66131467e-01  1.14683115e+00 -1.98817104e-02 -7.99059927e-01\n",
      "    1.01862693e+00  2.51284808e-01 -1.09299421e+00  7.41728604e-01]\n",
      "  [ 3.30481768e-01  6.98384643e-01 -4.44816425e-02 -3.66461188e-01\n",
      "    7.28694201e-01  1.85207471e-01 -1.42662257e-01  6.16497397e-01]\n",
      "  [ 5.05318284e-01  4.00797516e-01  4.95214045e-01 -6.13617934e-02\n",
      "    5.12342155e-01  7.49846756e-01 -7.57428780e-02  1.28310807e-02]]\n",
      "\n",
      " [[ 1.14494070e-01 -1.45091128e+00  9.73797366e-02  1.17760110e+00\n",
      "   -1.14675570e+00 -1.47191584e-01  1.97414732e+00 -8.23644340e-01]\n",
      "  [-6.36478439e-02 -6.93823457e-01 -1.03859842e-01  5.05953908e-01\n",
      "   -5.88062584e-01 -2.64183640e-01  8.85052204e-01 -3.11068833e-01]\n",
      "  [-3.32841054e-02 -5.59004486e-01 -5.31024858e-02  4.16106343e-01\n",
      "   -4.68513101e-01 -1.75218046e-01  7.12303758e-01 -2.70955116e-01]]\n",
      "\n",
      " [[ 1.24849081e+00 -5.35613894e-01  1.01953864e+00  1.03314471e+00\n",
      "    3.44259590e-02  1.33813369e+00  2.02270317e+00 -5.96185386e-01]\n",
      "  [ 9.51370537e-01 -7.17633367e-01  9.16466415e-01  1.02231359e+00\n",
      "   -2.41148770e-01  1.10712445e+00  1.76111352e+00 -7.63400555e-01]\n",
      "  [ 5.02045080e-02 -1.15160644e+00  5.53233802e-01  8.99700999e-01\n",
      "   -9.75197911e-01  3.75903547e-01  8.80518317e-01 -1.15527105e+00]]\n",
      "\n",
      " [[ 3.40113975e-02  6.45511985e-01  5.52259564e-01 -4.97069478e-01\n",
      "    4.91186470e-01  7.21474588e-01 -1.45165646e+00 -1.82801679e-01]\n",
      "  [ 1.54161258e-02  4.24345315e-01  6.09904647e-01 -3.37546676e-01\n",
      "    2.95673639e-01  7.33955383e-01 -1.28054929e+00 -3.72140616e-01]\n",
      "  [-2.75309645e-02 -5.71220405e-02  4.61254925e-01  1.64118782e-02\n",
      "   -1.04386710e-01  4.69806373e-01 -5.67135096e-01 -5.10377169e-01]]\n",
      "\n",
      " [[-9.61059451e-01 -6.16985500e-01 -3.45858783e-01 -1.28630260e-02\n",
      "   -9.13304210e-01 -7.65948176e-01 -7.94279218e-01 -5.43758690e-01]\n",
      "  [-9.21429813e-01 -5.88216424e-01 -3.40883851e-01 -1.46333128e-02\n",
      "   -8.72010946e-01 -7.43557990e-01 -7.54059553e-01 -5.10192394e-01]\n",
      "  [-1.04884319e-01 -2.19954993e-03 -2.91189194e-01 -4.43572886e-02\n",
      "   -2.15825401e-02 -3.39523971e-01  1.49958536e-01  2.30784819e-01]]\n",
      "\n",
      " [[-1.05711091e+00 -5.70532680e-01  1.10281549e-01 -1.11938365e-01\n",
      "   -9.63700175e-01 -3.01187903e-01 -1.63152277e+00 -1.03199804e+00]\n",
      "  [-4.33855116e-01 -2.26772875e-01  4.62612420e-01 -6.37760982e-02\n",
      "   -4.30099159e-01  3.20246994e-01 -1.20596457e+00 -8.38737488e-01]\n",
      "  [-2.80858725e-01 -1.37919769e-01  2.39322782e-01 -4.64000590e-02\n",
      "   -2.65286058e-01  1.45285517e-01 -7.16110528e-01 -4.77692246e-01]]\n",
      "\n",
      " [[-4.50977162e-02 -1.29490808e-01  1.65258437e-01  7.17932954e-02\n",
      "   -1.42973885e-01  1.36792153e-01 -1.37767687e-01 -2.62687892e-01]\n",
      "  [ 2.40913555e-01 -1.13125190e-01  6.08212173e-01  1.94947824e-01\n",
      "   -4.14334908e-02  6.92491770e-01 -1.16690420e-01 -5.33694267e-01]\n",
      "  [ 2.31778115e-01  4.98558283e-02  3.93083662e-01  7.05396235e-02\n",
      "    1.08972393e-01  4.93653268e-01 -7.28199556e-02 -2.33921483e-01]]\n",
      "\n",
      " [[ 4.05989677e-01  2.60105699e-01  4.82297540e-01 -3.92613374e-03\n",
      "    3.52644950e-01  6.79846585e-01 -8.82339925e-02 -1.08283177e-01]\n",
      "  [ 2.89906889e-01  3.77673060e-02  5.04902959e-01  1.06844768e-01\n",
      "    1.14846736e-01  6.26682639e-01 -7.63286054e-02 -3.19304794e-01]\n",
      "  [-1.80818483e-01 -2.16229424e-01 -1.73012555e-01  7.80867189e-02\n",
      "   -2.43448824e-01 -2.78109550e-01  1.14973329e-01 -4.85396348e-02]]\n",
      "\n",
      " [[ 2.32815087e-01 -2.14426026e-01  2.36429870e-01  2.79805690e-01\n",
      "   -9.20225158e-02  2.76230365e-01  4.65280384e-01 -2.20208481e-01]\n",
      "  [ 7.81358033e-02 -3.53377521e-01  1.45625994e-01  3.09388638e-01\n",
      "   -2.68109053e-01  1.07953459e-01  4.32538509e-01 -2.94068396e-01]\n",
      "  [ 8.78535062e-02 -4.70797598e-01  2.50860572e-01  4.02095228e-01\n",
      "   -3.70185792e-01  1.99373052e-01  4.70341802e-01 -4.58253384e-01]]], shape=(16, 3, 8), dtype=float32)\n"
     ]
    }
   ],
   "source": [
    "head = AttentionHead(head_size = 8)\n",
    "ex = head(tf.random.normal(shape = (16, 3, 3)))\n",
    "print(ex)"
   ]
  },
  {
   "cell_type": "code",
   "execution_count": 22,
   "metadata": {},
   "outputs": [],
   "source": [
    "class MultiHeadAttention(tf.keras.Model):\n",
    "    def __init__(self, head_size, n_heads):\n",
    "        super().__init__()\n",
    "        self.heads = [AttentionHead(head_size) for _ in range(n_heads)]\n",
    "        self.proj = tf.keras.layers.Dense(512)\n",
    "        self.dropout = tf.keras.layers.Dropout(0.2)\n",
    "\n",
    "    def call(self, x):\n",
    "        x = tf.concat([head(x) for head in self.heads], axis = -1)\n",
    "        output = self.dropout(self.proj(x))\n",
    "\n",
    "        return output"
   ]
  },
  {
   "cell_type": "code",
   "execution_count": 20,
   "metadata": {},
   "outputs": [
    {
     "name": "stdout",
     "output_type": "stream",
     "text": [
      "tf.Tensor(\n",
      "[[[-6.93779513e-02  4.50072169e-01 -2.37427264e-01 ... -7.00727046e-01\n",
      "   -5.67331553e-01  1.10494947e+00]\n",
      "  [ 5.99587336e-02  1.57032624e-01 -1.07536420e-01 ...  3.63230295e-02\n",
      "   -2.61703551e-01  5.28916538e-01]\n",
      "  [-1.17090642e-01  1.58971816e-01 -1.34923970e-02 ... -9.02118564e-01\n",
      "   -2.74580657e-01  3.34211767e-01]\n",
      "  ...\n",
      "  [-1.53336301e-01  2.37333924e-01  1.20426945e-01 ... -5.48764825e-01\n",
      "   -4.67314780e-01  4.67073649e-01]\n",
      "  [-9.02180523e-02 -4.44706351e-01 -2.11766198e-01 ... -3.12023729e-01\n",
      "   -2.52129257e-01  7.88422406e-01]\n",
      "  [-1.03407882e-01 -5.40178549e-03 -6.14366345e-02 ... -3.50704908e-01\n",
      "   -1.95939377e-01  1.77538559e-01]]\n",
      "\n",
      " [[-2.07829267e-01 -1.61697045e-01 -9.49870721e-02 ... -1.96300030e-01\n",
      "   -1.84997439e-01  7.07827628e-01]\n",
      "  [-1.28499627e-01  2.43657351e-01 -7.57647604e-02 ... -7.92656913e-02\n",
      "   -8.50715935e-02  5.34071386e-01]\n",
      "  [-8.82061273e-02  2.80394346e-01 -1.34909198e-01 ... -1.09406523e-01\n",
      "   -3.55033726e-02  3.45052183e-01]\n",
      "  ...\n",
      "  [-1.70722697e-02  9.86344889e-02 -7.88930804e-03 ...  8.23034346e-02\n",
      "    3.70544009e-02 -5.74477017e-02]\n",
      "  [-2.56450474e-02  1.05326958e-01 -6.30080774e-02 ...  1.65165290e-01\n",
      "    7.13774338e-02 -7.43164644e-02]\n",
      "  [ 1.26744602e-02  8.25852305e-02 -3.71883027e-02 ...  1.54580370e-01\n",
      "    8.07653964e-02 -1.14875637e-01]]\n",
      "\n",
      " [[ 9.63034034e-02 -1.96215481e-01  7.40265697e-02 ... -1.05533540e-01\n",
      "   -6.16681054e-02 -2.69866258e-01]\n",
      "  [ 3.51048931e-02 -2.78739065e-01  2.39246860e-02 ... -2.82236755e-01\n",
      "   -1.21249139e-01  1.87190011e-01]\n",
      "  [-3.74200940e-03 -2.65768737e-01 -1.65827945e-02 ... -7.02775940e-02\n",
      "   -7.88593218e-02 -2.32059918e-02]\n",
      "  ...\n",
      "  [ 2.49609835e-02 -4.35310304e-02  1.03904735e-02 ...  2.18558647e-02\n",
      "   -2.23777704e-02 -4.03314233e-02]\n",
      "  [ 1.13337487e-02 -6.28990382e-02  1.59124918e-02 ... -3.37491073e-02\n",
      "   -3.12528238e-02 -5.95544279e-02]\n",
      "  [ 2.76429281e-02 -6.89213574e-02  1.61519758e-02 ... -7.70250931e-02\n",
      "   -3.52245905e-02 -1.12933442e-02]]\n",
      "\n",
      " ...\n",
      "\n",
      " [[-2.93927759e-01 -8.08170736e-01 -1.86938643e-02 ... -3.53888571e-01\n",
      "   -3.08845371e-01  7.89768517e-01]\n",
      "  [-1.52194530e-01 -4.35258836e-01 -2.09645163e-02 ... -2.69899756e-01\n",
      "   -1.40240490e-01  6.83076382e-01]\n",
      "  [-5.13356924e-03  6.40368909e-02  5.20683359e-03 ...  4.51239906e-02\n",
      "   -3.15892883e-02  1.62272543e-01]\n",
      "  ...\n",
      "  [-1.12705499e-01  1.19900368e-01 -4.75460751e-04 ...  1.18421063e-01\n",
      "    5.01258150e-02  1.56438127e-01]\n",
      "  [ 1.74836293e-01  6.58527017e-02  5.66201806e-02 ... -2.60122120e-01\n",
      "   -6.40242174e-02 -1.26268610e-01]\n",
      "  [-3.78625095e-02 -9.19052362e-02 -1.23032313e-02 ... -1.86558649e-01\n",
      "   -9.53869820e-02  1.84463143e-01]]\n",
      "\n",
      " [[-4.63956259e-02 -4.75956500e-01  7.91084915e-02 ... -1.80726312e-02\n",
      "   -1.19602354e-02 -8.40207636e-02]\n",
      "  [-1.46160433e-02 -4.06598896e-01  8.19592923e-02 ...  2.80412100e-03\n",
      "    6.85388874e-03 -1.61643445e-01]\n",
      "  [ 3.54033001e-02 -4.01920706e-01  8.81239697e-02 ... -5.38946874e-03\n",
      "    7.77304592e-03 -2.56390691e-01]\n",
      "  ...\n",
      "  [ 2.94994265e-02 -3.42837393e-01  6.55138418e-02 ... -5.38110547e-02\n",
      "   -1.79488852e-03 -1.22964710e-01]\n",
      "  [ 4.41769660e-02 -2.92385250e-01  1.00392945e-01 ...  2.48107780e-02\n",
      "    3.01042013e-03 -1.17132120e-01]\n",
      "  [ 4.07298841e-02 -2.94443458e-01  6.43968806e-02 ...  5.89798018e-02\n",
      "   -1.33711686e-02 -1.84175938e-01]]\n",
      "\n",
      " [[-1.63259611e-01 -3.65665078e-01 -1.84114240e-02 ... -1.28350079e-01\n",
      "   -1.20147705e-01  4.13115650e-01]\n",
      "  [-7.63538256e-02 -1.64500982e-01  1.43891424e-02 ...  1.32016271e-01\n",
      "    6.20354190e-02 -1.38593977e-02]\n",
      "  [-1.01558045e-02 -2.13426113e-01  9.03457478e-02 ... -1.68990418e-01\n",
      "   -2.46234331e-02  1.29440948e-01]\n",
      "  ...\n",
      "  [ 7.22286850e-02  1.43245414e-01 -2.61898696e-01 ... -9.07233804e-02\n",
      "    7.83872679e-02  1.62082180e-01]\n",
      "  [ 8.56929868e-02  1.34796336e-01 -9.70830917e-02 ... -3.56049836e-02\n",
      "    6.04023710e-02  2.73704622e-02]\n",
      "  [ 4.48257737e-02  8.31875056e-02  2.66125370e-02 ... -1.89627528e-01\n",
      "   -1.76583547e-02  4.00941707e-02]]], shape=(16, 8, 512), dtype=float32)\n"
     ]
    }
   ],
   "source": [
    "mha = MultiHeadAttention(8, 8)\n",
    "rt = mha(tf.random.normal(shape = (16, 8, 3)))\n",
    "print(rt)"
   ]
  },
  {
   "cell_type": "code",
   "execution_count": 9,
   "metadata": {},
   "outputs": [],
   "source": [
    "class FullyC(tf.keras.Model):\n",
    "    def __init__(self, n_embed):\n",
    "        super().__init__()\n",
    "        self.dense = tf.keras.Sequential([\n",
    "            tf.keras.layers.Dense(n_embed*4),\n",
    "            tf.keras.layers.ReLU(),\n",
    "            tf.keras.layers.Dense(n_embed),\n",
    "            tf.keras.layers.Dropout(0.2)\n",
    "        ])\n",
    "\n",
    "    def call(self, x):\n",
    "        output = self.dense(x)\n",
    "        return output"
   ]
  },
  {
   "cell_type": "code",
   "execution_count": 10,
   "metadata": {},
   "outputs": [],
   "source": [
    "class Block(tf.keras.Model):\n",
    "    def __init__(self, n_head, n_embed):\n",
    "        super().__init__()\n",
    "        self.head_size = n_embed // n_head\n",
    "        self.attention = MultiHeadAttention(self.head_size, n_head)\n",
    "        self.fc = FullyC(n_embed)\n",
    "        self.lnorm1 = tf.keras.layers.LayerNormalization()\n",
    "        self.lnorm2 = tf.keras.layers.LayerNormalization()\n",
    "\n",
    "    def call(self, x):\n",
    "        #comunicacao entre os tokens\n",
    "        x = x + self.attention(self.lnorm1(x))\n",
    "        #aplicar o resultado da comunicacao\n",
    "        x = x + self.fc(self.lnorm2(x))\n",
    "\n",
    "        return x    \n",
    "\n",
    "        "
   ]
  },
  {
   "cell_type": "code",
   "execution_count": 23,
   "metadata": {},
   "outputs": [
    {
     "ename": "InvalidArgumentError",
     "evalue": "Exception encountered when calling Block.call().\n\n\u001b[1m{{function_node __wrapped__AddV2_device_/job:localhost/replica:0/task:0/device:CPU:0}} Incompatible shapes: [16,32,3] vs. [16,32,512] [Op:AddV2] name: \u001b[0m\n\nArguments received by Block.call():\n  • x=tf.Tensor(shape=(16, 32, 3), dtype=float32)",
     "output_type": "error",
     "traceback": [
      "\u001b[1;31m---------------------------------------------------------------------------\u001b[0m",
      "\u001b[1;31mInvalidArgumentError\u001b[0m                      Traceback (most recent call last)",
      "Cell \u001b[1;32mIn[23], line 2\u001b[0m\n\u001b[0;32m      1\u001b[0m block \u001b[38;5;241m=\u001b[39m Block(\u001b[38;5;241m16\u001b[39m, \u001b[38;5;241m512\u001b[39m)\n\u001b[1;32m----> 2\u001b[0m ajs \u001b[38;5;241m=\u001b[39m \u001b[43mblock\u001b[49m\u001b[43m(\u001b[49m\u001b[43mtf\u001b[49m\u001b[38;5;241;43m.\u001b[39;49m\u001b[43mrandom\u001b[49m\u001b[38;5;241;43m.\u001b[39;49m\u001b[43mnormal\u001b[49m\u001b[43m(\u001b[49m\u001b[43mshape\u001b[49m\u001b[38;5;241;43m=\u001b[39;49m\u001b[43m(\u001b[49m\u001b[38;5;241;43m16\u001b[39;49m\u001b[43m,\u001b[49m\u001b[43m \u001b[49m\u001b[38;5;241;43m32\u001b[39;49m\u001b[43m,\u001b[49m\u001b[43m \u001b[49m\u001b[38;5;241;43m3\u001b[39;49m\u001b[43m)\u001b[49m\u001b[43m)\u001b[49m\u001b[43m)\u001b[49m\n\u001b[0;32m      3\u001b[0m \u001b[38;5;28mprint\u001b[39m(ajs)\n",
      "File \u001b[1;32mc:\\Users\\gugu1\\AppData\\Local\\Programs\\Python\\Python39\\lib\\site-packages\\keras\\src\\utils\\traceback_utils.py:122\u001b[0m, in \u001b[0;36mfilter_traceback.<locals>.error_handler\u001b[1;34m(*args, **kwargs)\u001b[0m\n\u001b[0;32m    119\u001b[0m     filtered_tb \u001b[38;5;241m=\u001b[39m _process_traceback_frames(e\u001b[38;5;241m.\u001b[39m__traceback__)\n\u001b[0;32m    120\u001b[0m     \u001b[38;5;66;03m# To get the full stack trace, call:\u001b[39;00m\n\u001b[0;32m    121\u001b[0m     \u001b[38;5;66;03m# `keras.config.disable_traceback_filtering()`\u001b[39;00m\n\u001b[1;32m--> 122\u001b[0m     \u001b[38;5;28;01mraise\u001b[39;00m e\u001b[38;5;241m.\u001b[39mwith_traceback(filtered_tb) \u001b[38;5;28;01mfrom\u001b[39;00m \u001b[38;5;28;01mNone\u001b[39;00m\n\u001b[0;32m    123\u001b[0m \u001b[38;5;28;01mfinally\u001b[39;00m:\n\u001b[0;32m    124\u001b[0m     \u001b[38;5;28;01mdel\u001b[39;00m filtered_tb\n",
      "Cell \u001b[1;32mIn[10], line 14\u001b[0m, in \u001b[0;36mBlock.call\u001b[1;34m(self, x)\u001b[0m\n\u001b[0;32m     12\u001b[0m x \u001b[38;5;241m=\u001b[39m x \u001b[38;5;241m+\u001b[39m \u001b[38;5;28mself\u001b[39m\u001b[38;5;241m.\u001b[39mattention(x)\n\u001b[0;32m     13\u001b[0m \u001b[38;5;66;03m#aplicar o resultado da comunicacao\u001b[39;00m\n\u001b[1;32m---> 14\u001b[0m x \u001b[38;5;241m=\u001b[39m \u001b[43mx\u001b[49m\u001b[43m \u001b[49m\u001b[38;5;241;43m+\u001b[39;49m\u001b[43m \u001b[49m\u001b[38;5;28;43mself\u001b[39;49m\u001b[38;5;241;43m.\u001b[39;49m\u001b[43mfc\u001b[49m\u001b[43m(\u001b[49m\u001b[43mx\u001b[49m\u001b[43m)\u001b[49m\n\u001b[0;32m     16\u001b[0m \u001b[38;5;28;01mreturn\u001b[39;00m x\n",
      "\u001b[1;31mInvalidArgumentError\u001b[0m: Exception encountered when calling Block.call().\n\n\u001b[1m{{function_node __wrapped__AddV2_device_/job:localhost/replica:0/task:0/device:CPU:0}} Incompatible shapes: [16,32,3] vs. [16,32,512] [Op:AddV2] name: \u001b[0m\n\nArguments received by Block.call():\n  • x=tf.Tensor(shape=(16, 32, 3), dtype=float32)"
     ]
    }
   ],
   "source": [
    "block = Block(16, 512)\n",
    "ajs = block(tf.random.normal(shape=(16, 32, 512)))\n",
    "print(ajs)"
   ]
  },
  {
   "cell_type": "code",
   "execution_count": null,
   "metadata": {},
   "outputs": [],
   "source": []
  }
 ],
 "metadata": {
  "kernelspec": {
   "display_name": "Python 3",
   "language": "python",
   "name": "python3"
  },
  "language_info": {
   "codemirror_mode": {
    "name": "ipython",
    "version": 3
   },
   "file_extension": ".py",
   "mimetype": "text/x-python",
   "name": "python",
   "nbconvert_exporter": "python",
   "pygments_lexer": "ipython3",
   "version": "3.9.13"
  }
 },
 "nbformat": 4,
 "nbformat_minor": 2
}
