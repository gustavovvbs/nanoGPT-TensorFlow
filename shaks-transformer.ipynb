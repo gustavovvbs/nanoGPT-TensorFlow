{
 "cells": [
  {
   "cell_type": "code",
   "execution_count": 3,
   "metadata": {},
   "outputs": [
    {
     "name": "stdout",
     "output_type": "stream",
     "text": [
      "WARNING:tensorflow:From c:\\Users\\gugu1\\AppData\\Local\\Programs\\Python\\Python39\\lib\\site-packages\\tf_keras\\src\\losses.py:2976: The name tf.losses.sparse_softmax_cross_entropy is deprecated. Please use tf.compat.v1.losses.sparse_softmax_cross_entropy instead.\n",
      "\n",
      "WARNING:tensorflow:From c:\\Users\\gugu1\\AppData\\Local\\Programs\\Python\\Python39\\lib\\site-packages\\tensorflow_probability\\python\\internal\\backend\\numpy\\_utils.py:48: The name tf.logging.TaskLevelStatusMessage is deprecated. Please use tf.compat.v1.logging.TaskLevelStatusMessage instead.\n",
      "\n",
      "WARNING:tensorflow:From c:\\Users\\gugu1\\AppData\\Local\\Programs\\Python\\Python39\\lib\\site-packages\\tensorflow_probability\\python\\internal\\backend\\numpy\\_utils.py:48: The name tf.control_flow_v2_enabled is deprecated. Please use tf.compat.v1.control_flow_v2_enabled instead.\n",
      "\n"
     ]
    }
   ],
   "source": [
    "import tensorflow as tf \n",
    "import numpy as np \n",
    "import tensorflow_probability as tfp\n",
    "import numpy as np\n",
    "\n",
    "\n",
    "with open('data.txt', 'r', encoding = 'utf-8') as f:\n",
    "    text = f.read()"
   ]
  },
  {
   "cell_type": "code",
   "execution_count": 4,
   "metadata": {},
   "outputs": [
    {
     "name": "stdout",
     "output_type": "stream",
     "text": [
      "['\\n', ' ', '!', '$', '&', \"'\", ',', '-', '.', '3', ':', ';', '?', 'A', 'B', 'C', 'D', 'E', 'F', 'G', 'H', 'I', 'J', 'K', 'L', 'M', 'N', 'O', 'P', 'Q', 'R', 'S', 'T', 'U', 'V', 'W', 'X', 'Y', 'Z', 'a', 'b', 'c', 'd', 'e', 'f', 'g', 'h', 'i', 'j', 'k', 'l', 'm', 'n', 'o', 'p', 'q', 'r', 's', 't', 'u', 'v', 'w', 'x', 'y', 'z']\n",
      "65\n",
      "1115393\n"
     ]
    }
   ],
   "source": [
    "vocab = sorted(set(text))\n",
    "vocab_size = len(vocab)\n",
    "n_tokens = len(text)\n",
    "\n",
    "print(vocab)\n",
    "print(vocab_size)\n",
    "print(n_tokens)"
   ]
  },
  {
   "cell_type": "code",
   "execution_count": 5,
   "metadata": {},
   "outputs": [
    {
     "data": {
      "text/plain": [
       "'First Citizen:\\nBefore we proceed any further, hear me speak.\\n\\nAll:\\nSpeak, speak.'"
      ]
     },
     "execution_count": 5,
     "metadata": {},
     "output_type": "execute_result"
    }
   ],
   "source": [
    "text[:80]"
   ]
  },
  {
   "cell_type": "code",
   "execution_count": 6,
   "metadata": {},
   "outputs": [],
   "source": [
    "text_vec_layer = tf.keras.layers.TextVectorization(max_tokens = vocab_size)\n",
    "text_vec_layer.adapt(text)\n",
    "encoded_text = text_vec_layer([text])[0]\n"
   ]
  },
  {
   "cell_type": "code",
   "execution_count": 7,
   "metadata": {},
   "outputs": [],
   "source": [
    "n = int(len(text_vec_layer.get_vocabulary())*0.9)\n",
    "raw_train_set = encoded_text[:n]\n",
    "raw_test_set = encoded_text[n:]"
   ]
  },
  {
   "cell_type": "code",
   "execution_count": 8,
   "metadata": {},
   "outputs": [],
   "source": [
    "def to_dataset(sequence, length, shuffle = False, seed = None, batch_size = 32):\n",
    "    ds = tf.data.Dataset.from_tensor_slices(sequence)\n",
    "    ds = ds.window(length + 1, shift = 1, drop_remainder = True)\n",
    "    ds = ds.flat_map(lambda window_ds: window_ds.batch(length + 1))\n",
    "    if shuffle:\n",
    "        ds = ds.shuffle(100000, seed = seed)\n",
    "    ds = ds.batch(batch_size)\n",
    "    return ds.map(lambda window: (window[:, :-1], window[:, 1:])).prefetch(1)"
   ]
  },
  {
   "cell_type": "code",
   "execution_count": 9,
   "metadata": {},
   "outputs": [],
   "source": [
    "train_set = to_dataset(raw_train_set, shuffle = True, length = 8)\n",
    "test_set = to_dataset(raw_test_set, length = 8)"
   ]
  },
  {
   "cell_type": "code",
   "execution_count": 10,
   "metadata": {},
   "outputs": [
    {
     "name": "stdout",
     "output_type": "stream",
     "text": [
      "when inputs are: [[ 1  1  1  1  1  1 27  3]\n",
      " [ 1  1 16  1 34  1  1  1]\n",
      " [ 1  1  1 16  1 34  1  1]\n",
      " [ 4  1 34  1  1  1  1  1]\n",
      " [36  1 36  1  1  1  1  1]]\n",
      "outputs are:[[ 1  1  1  1  1 27  3 56]\n",
      " [ 1 16  1 34  1  1  1  1]\n",
      " [ 1  1 16  1 34  1  1  1]\n",
      " [ 1 34  1  1  1  1  1  7]\n",
      " [ 1 36  1  1  1  1  1  1]]\n"
     ]
    }
   ],
   "source": [
    "listset =list(train_set)\n",
    "print(f'when inputs are: {listset[0][0][:5]}')\n",
    "print(f'outputs are:{listset[0][1][:5]}')\n"
   ]
  },
  {
   "cell_type": "code",
   "execution_count": 11,
   "metadata": {},
   "outputs": [],
   "source": [
    "class AttentionHead(tf.keras.Model):\n",
    "    def __init__(self, head_size):\n",
    "        super().__init__()\n",
    "        self.head_size = head_size \n",
    "        self.key = tf.keras.layers.Dense(head_size, use_bias = False)\n",
    "        self.query = tf.keras.layers.Dense(head_size, use_bias = False)\n",
    "        self.value = tf.keras.layers.Dense(head_size, use_bias = False)\n",
    "    \n",
    "    def call(self, x):\n",
    "        #pega as dimensoes de batch, context size e channels do input \n",
    "        B, T, C = x.shape\n",
    "        k = self.key(x)\n",
    "        q = self.query(x)\n",
    "        v = self.value(x)\n",
    "\n",
    "        trig = tf.linalg.band_part(tf.ones(shape = (T, T)), -1, 0)\n",
    "\n",
    "        att_w = q @ tf.transpose(k, perm = [0, 2, 1]) *(k.shape[-1])**-0.5\n",
    "\n",
    "        att_w = tf.where(trig == 0, -np.inf, att_w)\n",
    "\n",
    "        att_w = tf.nn.softmax(att_w, axis = -1)\n",
    "        \n",
    "        output = att_w @ v\n",
    "\n",
    "        return output\n",
    "\n",
    "\n"
   ]
  },
  {
   "cell_type": "code",
   "execution_count": 13,
   "metadata": {},
   "outputs": [
    {
     "name": "stdout",
     "output_type": "stream",
     "text": [
      "tf.Tensor(\n",
      "[[[ 0.8742348  -2.291061   -1.5439545  ...  0.39979658 -0.66131026\n",
      "   -0.8413736 ]\n",
      "  [ 1.0020753   0.46867776 -0.29140228 ...  0.32961547 -0.3559128\n",
      "   -0.6409245 ]\n",
      "  [ 0.82333547  0.5932853  -0.34482563 ...  0.13389322 -0.33224767\n",
      "   -0.35916552]\n",
      "  ...\n",
      "  [ 0.56711996 -0.22129327 -0.5748265  ...  0.1233094  -0.31778204\n",
      "    0.25546363]\n",
      "  [ 0.04232287 -0.6043529  -0.8139047  ...  0.01727652 -0.42676324\n",
      "    0.00731364]\n",
      "  [ 0.45541838 -0.25246352 -0.49974188 ... -0.14117657 -0.33409762\n",
      "    0.21107005]]\n",
      "\n",
      " [[ 0.66540504 -0.3047233  -0.49578145 ... -0.42390257 -1.5409238\n",
      "    0.7744286 ]\n",
      "  [-0.24888241  0.07342127 -0.9359792  ...  0.27649572 -0.974089\n",
      "    0.8697543 ]\n",
      "  [ 0.64873934  0.57870525 -0.15201709 ...  0.13821054 -0.80786574\n",
      "    0.46620667]\n",
      "  ...\n",
      "  [ 0.9114361  -0.1222733  -0.06980932 ...  0.12196609 -0.4506261\n",
      "   -0.72275054]\n",
      "  [ 0.27458894  1.2392833   0.6192322  ... -0.139667   -0.1997494\n",
      "    0.68740916]\n",
      "  [-0.2624581   1.4255781   0.14371102 ...  0.15749381 -0.2497304\n",
      "    1.8584412 ]]\n",
      "\n",
      " [[ 0.3945735  -1.029701   -0.18307275 ...  0.13179374  0.817083\n",
      "   -1.4087816 ]\n",
      "  [ 0.46425903 -1.8056426  -0.6191454  ...  0.6694963   0.21694055\n",
      "   -0.45884112]\n",
      "  [-0.17906487 -0.67779964 -0.65142286 ...  0.1447463   0.40952507\n",
      "   -0.13989691]\n",
      "  ...\n",
      "  [ 0.02078652  0.26704824  0.10165063 ...  0.2349799  -0.18078211\n",
      "   -0.09365761]\n",
      "  [ 0.28017533 -0.7054027  -0.10327628 ...  0.37877792  0.44722497\n",
      "   -0.76809686]\n",
      "  [ 0.07774685 -0.20991462  0.06916143 ...  0.21694829  0.07647711\n",
      "   -0.44656155]]\n",
      "\n",
      " ...\n",
      "\n",
      " [[-0.40345174 -0.09168332  0.0603567  ... -1.1259656   0.3197791\n",
      "   -1.6340961 ]\n",
      "  [-2.2824202   0.7747037  -1.8169515  ... -0.606853    0.689359\n",
      "    0.7587139 ]\n",
      "  [-0.37351632 -0.70761704 -0.45379752 ... -0.8730954   0.18782641\n",
      "   -0.8615012 ]\n",
      "  ...\n",
      "  [-0.36316586 -0.3321395  -0.5669214  ... -0.53842604  0.21815841\n",
      "   -0.21323885]\n",
      "  [-0.61639607 -0.7088423  -1.0846676  ... -0.368994    0.39158893\n",
      "   -0.27761292]\n",
      "  [ 1.449635    1.2852622   1.0693749  ... -0.30204397 -0.4055425\n",
      "   -0.0631467 ]]\n",
      "\n",
      " [[-1.8588094   0.83122814  1.9993836  ... -1.8263198   1.8482448\n",
      "   -2.4817853 ]\n",
      "  [-1.2523962   0.39869127  1.2878925  ... -0.46152523  1.1412904\n",
      "   -0.47625768]\n",
      "  [-0.7775366   0.4276216   1.2564883  ... -0.9895992   0.9026682\n",
      "   -1.4354882 ]\n",
      "  ...\n",
      "  [ 0.5316695  -2.2496774  -0.6638051  ...  1.0196366   0.24434939\n",
      "   -2.1363459 ]\n",
      "  [-0.82149255  0.5954021   0.12735234 ...  0.14164081  0.43956983\n",
      "    0.23457271]\n",
      "  [-0.44631875 -0.6036871   0.2654994  ... -0.05630401  0.6835752\n",
      "   -1.1999356 ]]\n",
      "\n",
      " [[-2.5072498  -1.9944305  -1.41629    ... -0.9748497  -0.2846843\n",
      "    0.26173806]\n",
      "  [ 0.5327215   1.1908772  -0.1146296  ...  0.19230498 -0.19852711\n",
      "    1.2544514 ]\n",
      "  [-0.559885   -0.41976875 -0.6762667  ... -0.180549   -0.4389972\n",
      "    0.94980663]\n",
      "  ...\n",
      "  [ 1.2237252   0.76033056  0.08071912 ...  0.38506803 -0.97653824\n",
      "    0.7811859 ]\n",
      "  [-0.37695828 -0.17916086 -0.21606305 ... -0.15725899  0.00347109\n",
      "    0.21864393]\n",
      "  [ 0.92142445  0.5975902   0.33827138 ...  0.23068145 -0.3145442\n",
      "    0.12592247]]], shape=(16, 8, 8), dtype=float32)\n"
     ]
    }
   ],
   "source": [
    "head = AttentionHead(head_size = 8)\n",
    "ex = head(tf.random.normal(shape = (16, 8, 8)))\n",
    "print(ex)"
   ]
  },
  {
   "cell_type": "code",
   "execution_count": null,
   "metadata": {},
   "outputs": [],
   "source": []
  }
 ],
 "metadata": {
  "kernelspec": {
   "display_name": "Python 3",
   "language": "python",
   "name": "python3"
  },
  "language_info": {
   "codemirror_mode": {
    "name": "ipython",
    "version": 3
   },
   "file_extension": ".py",
   "mimetype": "text/x-python",
   "name": "python",
   "nbconvert_exporter": "python",
   "pygments_lexer": "ipython3",
   "version": "3.9.13"
  }
 },
 "nbformat": 4,
 "nbformat_minor": 2
}
